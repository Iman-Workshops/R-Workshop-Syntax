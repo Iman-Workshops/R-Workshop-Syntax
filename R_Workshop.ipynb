{
  "nbformat": 4,
  "nbformat_minor": 0,
  "metadata": {
    "colab": {
      "provenance": []
    },
    "kernelspec": {
      "name": "ir",
      "display_name": "R"
    },
    "language_info": {
      "name": "R"
    }
  },
  "cells": [
    {
      "cell_type": "markdown",
      "source": [
        "<div style=\"direction: rtl; line-height: 300%; text-align: center;\">\n",
        "    <font face=\"XB Zar\" size=\"5\">\n",
        "        تعریف متغیر و چاپ\n",
        "    </font>\n",
        "</div>"
      ],
      "metadata": {
        "id": "f82iPkx23GLA"
      }
    },
    {
      "cell_type": "code",
      "source": [
        "x <- \"Hello World!\"\n",
        "print(x)"
      ],
      "metadata": {
        "id": "2i2abMbFgYqE",
        "colab": {
          "base_uri": "https://localhost:8080/"
        },
        "outputId": "d991319a-a5fc-45c0-f47f-dba3f46d82e8"
      },
      "execution_count": 45,
      "outputs": [
        {
          "output_type": "stream",
          "name": "stdout",
          "text": [
            "[1] \"Hello World!\"\n"
          ]
        }
      ]
    },
    {
      "cell_type": "code",
      "source": [
        "x = \"Hello World!\"\n",
        "print(x)"
      ],
      "metadata": {
        "colab": {
          "base_uri": "https://localhost:8080/"
        },
        "id": "i7LhpQyD1-ce",
        "outputId": "d4a3dd4f-fefc-4b86-8673-70c38d90a09b"
      },
      "execution_count": 46,
      "outputs": [
        {
          "output_type": "stream",
          "name": "stdout",
          "text": [
            "[1] \"Hello World!\"\n"
          ]
        }
      ]
    },
    {
      "cell_type": "code",
      "source": [
        "y = \"Hello World!\"\n",
        "cat(y)"
      ],
      "metadata": {
        "colab": {
          "base_uri": "https://localhost:8080/"
        },
        "id": "8E01X7MVjSDN",
        "outputId": "d087d519-6e63-4880-e16f-26e8e233edbb"
      },
      "execution_count": 47,
      "outputs": [
        {
          "output_type": "stream",
          "name": "stdout",
          "text": [
            "Hello World!"
          ]
        }
      ]
    },
    {
      "cell_type": "code",
      "source": [
        "a = TRUE\n",
        "print(a)\n",
        "cat(a)"
      ],
      "metadata": {
        "colab": {
          "base_uri": "https://localhost:8080/"
        },
        "id": "budV8gU11dgJ",
        "outputId": "a2d711d5-4455-4bde-f4e6-85277f128951"
      },
      "execution_count": 48,
      "outputs": [
        {
          "output_type": "stream",
          "name": "stdout",
          "text": [
            "[1] TRUE\n",
            "TRUE"
          ]
        }
      ]
    },
    {
      "cell_type": "code",
      "source": [
        "z = 6.5\n",
        "print(z)\n",
        "cat(z)"
      ],
      "metadata": {
        "id": "JRDV3nygjbyk",
        "colab": {
          "base_uri": "https://localhost:8080/"
        },
        "outputId": "0c3f20b4-aebc-47ba-85dc-05ec07307e3a"
      },
      "execution_count": 49,
      "outputs": [
        {
          "output_type": "stream",
          "name": "stdout",
          "text": [
            "[1] 6.5\n",
            "6.5"
          ]
        }
      ]
    },
    {
      "cell_type": "code",
      "source": [
        "cat(\"Hello, world!\", 123, TRUE)"
      ],
      "metadata": {
        "colab": {
          "base_uri": "https://localhost:8080/"
        },
        "id": "7F0GJ4ndzu_6",
        "outputId": "a6761624-47dc-412e-fc15-6e024413e1a8"
      },
      "execution_count": 50,
      "outputs": [
        {
          "output_type": "stream",
          "name": "stdout",
          "text": [
            "Hello, world! 123 TRUE"
          ]
        }
      ]
    },
    {
      "cell_type": "code",
      "source": [
        "print(\"Hello, world!\")\n",
        "print(123)\n",
        "print(TRUE)"
      ],
      "metadata": {
        "colab": {
          "base_uri": "https://localhost:8080/"
        },
        "id": "dfZif8-904TJ",
        "outputId": "964d69ff-dbdd-485b-a76d-ba5c7a3e9299"
      },
      "execution_count": 51,
      "outputs": [
        {
          "output_type": "stream",
          "name": "stdout",
          "text": [
            "[1] \"Hello, world!\"\n",
            "[1] 123\n",
            "[1] TRUE\n"
          ]
        }
      ]
    },
    {
      "cell_type": "markdown",
      "source": [
        "<div style=\"direction: rtl; line-height: 300%; text-align: center;\">\n",
        "    <font face=\"XB Zar\" size=\"5\">\n",
        "        تعیین نوع داده\n",
        "    </font>\n",
        "</div>"
      ],
      "metadata": {
        "id": "RT0GfVC04bJF"
      }
    },
    {
      "cell_type": "code",
      "source": [
        "typeof(x)"
      ],
      "metadata": {
        "colab": {
          "base_uri": "https://localhost:8080/",
          "height": 34
        },
        "id": "0WQoPGSq1TFg",
        "outputId": "4235fd6a-a30f-469c-8c85-d5cbd3e0ccf5"
      },
      "execution_count": 52,
      "outputs": [
        {
          "output_type": "display_data",
          "data": {
            "text/html": [
              "'character'"
            ],
            "text/markdown": "'character'",
            "text/latex": "'character'",
            "text/plain": [
              "[1] \"character\""
            ]
          },
          "metadata": {}
        }
      ]
    },
    {
      "cell_type": "code",
      "source": [
        "typeof(a)"
      ],
      "metadata": {
        "colab": {
          "base_uri": "https://localhost:8080/",
          "height": 34
        },
        "id": "n827xmcc1Z05",
        "outputId": "c01f33c0-9d0a-4e04-ff2b-e24423e46d1a"
      },
      "execution_count": 53,
      "outputs": [
        {
          "output_type": "display_data",
          "data": {
            "text/html": [
              "'logical'"
            ],
            "text/markdown": "'logical'",
            "text/latex": "'logical'",
            "text/plain": [
              "[1] \"logical\""
            ]
          },
          "metadata": {}
        }
      ]
    },
    {
      "cell_type": "code",
      "source": [
        "typeof(z)"
      ],
      "metadata": {
        "colab": {
          "base_uri": "https://localhost:8080/",
          "height": 34
        },
        "id": "W6CeyZm91bHR",
        "outputId": "7ff64a09-0dea-4359-e9f1-76fae34cf3e9"
      },
      "execution_count": 54,
      "outputs": [
        {
          "output_type": "display_data",
          "data": {
            "text/html": [
              "'double'"
            ],
            "text/markdown": "'double'",
            "text/latex": "'double'",
            "text/plain": [
              "[1] \"double\""
            ]
          },
          "metadata": {}
        }
      ]
    },
    {
      "cell_type": "markdown",
      "source": [
        "<div style=\"direction: rtl; line-height: 300%; text-align: center;\">\n",
        "    <font face=\"XB Zar\" size=\"5\">\n",
        "        شرط\n",
        "    </font>\n",
        "</div>"
      ],
      "metadata": {
        "id": "57d8hAsE4cvh"
      }
    },
    {
      "cell_type": "code",
      "source": [
        "#بررسی می‌کنیم که آیا یک عدد زوج است یا فرد:\n",
        "\n",
        "number <- 7\n",
        "if (number %% 2 == 0) {\n",
        "  print(\"Even\")\n",
        "} else {\n",
        "  print(\"Odd\")\n",
        "}"
      ],
      "metadata": {
        "colab": {
          "base_uri": "https://localhost:8080/"
        },
        "id": "vRSRSvbz2jSh",
        "outputId": "ead6d02f-2b9e-454d-82e6-50a748b63e4e"
      },
      "execution_count": 55,
      "outputs": [
        {
          "output_type": "stream",
          "name": "stdout",
          "text": [
            "[1] \"Odd\"\n"
          ]
        }
      ]
    },
    {
      "cell_type": "code",
      "source": [
        "#براساس شماره ماه، فصل مربوطه را تعیین می‌کنیم:\n",
        "\n",
        "month <- 4\n",
        "if (month %in% c(3, 4, 5)) {\n",
        "  season <- \"Spring\"\n",
        "} else if (month %in% c(6, 7, 8)) {\n",
        "  season <- \"Summer\"\n",
        "} else if (month %in% c(9, 10, 11)) {\n",
        "  season <- \"Autumn\"\n",
        "} else {\n",
        "  season <- \"Winter\"\n",
        "}\n",
        "print(season)"
      ],
      "metadata": {
        "colab": {
          "base_uri": "https://localhost:8080/"
        },
        "id": "0SQnjf8x2qA-",
        "outputId": "80090273-0518-4448-fe08-079a8761f5db"
      },
      "execution_count": 56,
      "outputs": [
        {
          "output_type": "stream",
          "name": "stdout",
          "text": [
            "[1] \"Spring\"\n"
          ]
        }
      ]
    },
    {
      "cell_type": "code",
      "source": [
        "#حداکثر و حداقل را در بین سه عدد مشخص می‌کنیم\n",
        "\n",
        "a <- 10\n",
        "b <- 20\n",
        "c <- 15\n",
        "\n",
        "max_value <- ifelse(a > b & a > c, a, ifelse(b > c, b, c))\n",
        "min_value <- ifelse(a < b & a < c, a, ifelse(b < c, b, c))\n",
        "\n",
        "print(paste(\"Max:\", max_value))\n",
        "print(paste(\"Min:\", min_value))"
      ],
      "metadata": {
        "colab": {
          "base_uri": "https://localhost:8080/"
        },
        "id": "Gei45X582v2p",
        "outputId": "2d0ccf10-7742-45bd-83d7-188691b0901c"
      },
      "execution_count": 57,
      "outputs": [
        {
          "output_type": "stream",
          "name": "stdout",
          "text": [
            "[1] \"Max: 20\"\n",
            "[1] \"Min: 10\"\n"
          ]
        }
      ]
    },
    {
      "cell_type": "code",
      "source": [
        "#نمرات رو به درجات تبدیل می‌کنیم\n",
        "\n",
        "score <- 85\n",
        "grade <- if (score >= 90) {\n",
        "  \"A\"\n",
        "} else if (score >= 80) {\n",
        "  \"B\"\n",
        "} else if (score >= 70) {\n",
        "  \"C\"\n",
        "} else if (score >= 60) {\n",
        "  \"D\"\n",
        "} else {\n",
        "  \"F\"\n",
        "}\n",
        "print(grade)"
      ],
      "metadata": {
        "colab": {
          "base_uri": "https://localhost:8080/"
        },
        "id": "grtBz2C53Ab5",
        "outputId": "f9a094f2-2da4-4d07-fbca-a5209825af5e"
      },
      "execution_count": 58,
      "outputs": [
        {
          "output_type": "stream",
          "name": "stdout",
          "text": [
            "[1] \"B\"\n"
          ]
        }
      ]
    },
    {
      "cell_type": "markdown",
      "source": [
        "<div style=\"direction: rtl; line-height: 300%; text-align: center;\">\n",
        "    <font face=\"XB Zar\" size=\"5\">\n",
        "        حلقه\n",
        "    </font>\n",
        "</div>"
      ],
      "metadata": {
        "id": "4A-pc8Rd4fbT"
      }
    },
    {
      "cell_type": "code",
      "source": [
        "\n",
        "sum <- 0\n",
        "for (i in 1:100) {\n",
        "  sum <- sum + i\n",
        "}\n",
        "print(sum)\n",
        "cat(sum)"
      ],
      "metadata": {
        "colab": {
          "base_uri": "https://localhost:8080/"
        },
        "id": "nWipU0Aw1lgy",
        "outputId": "9785aa72-63b8-4b81-8cb1-4dc95fb053a1"
      },
      "execution_count": 59,
      "outputs": [
        {
          "output_type": "stream",
          "name": "stdout",
          "text": [
            "[1] 5050\n",
            "5050"
          ]
        }
      ]
    },
    {
      "cell_type": "code",
      "source": [
        "result <- \"\"\n",
        "for (i in 1:5) {\n",
        "  result <- paste(result, \"R\")\n",
        "}\n",
        "print(result)"
      ],
      "metadata": {
        "colab": {
          "base_uri": "https://localhost:8080/"
        },
        "id": "Vphlfrfj2ApK",
        "outputId": "39b33a6c-c712-4445-8109-0cc1ba5fe15a"
      },
      "execution_count": 60,
      "outputs": [
        {
          "output_type": "stream",
          "name": "stdout",
          "text": [
            "[1] \" R R R R R\"\n"
          ]
        }
      ]
    },
    {
      "cell_type": "code",
      "source": [
        "set.seed(123)  # برای تکرارپذیری نتایج\n",
        "while (TRUE) {\n",
        "  num <- runif(1)\n",
        "  print(num)\n",
        "  if (num > 0.9) {\n",
        "    break\n",
        "  }\n",
        "}"
      ],
      "metadata": {
        "colab": {
          "base_uri": "https://localhost:8080/"
        },
        "id": "NWD0X1Z_2IMJ",
        "outputId": "967dc93c-dfad-47e0-e5dd-9cb07bad4930"
      },
      "execution_count": 61,
      "outputs": [
        {
          "output_type": "stream",
          "name": "stdout",
          "text": [
            "[1] 0.2875775\n",
            "[1] 0.7883051\n",
            "[1] 0.4089769\n",
            "[1] 0.8830174\n",
            "[1] 0.9404673\n"
          ]
        }
      ]
    },
    {
      "cell_type": "code",
      "source": [
        "fib <- numeric(10)\n",
        "fib[1] <- 1\n",
        "fib[2] <- 1\n",
        "for (i in 3:10) {\n",
        "  fib[i] <- fib[i-1] + fib[i-2]\n",
        "}\n",
        "print(fib)"
      ],
      "metadata": {
        "colab": {
          "base_uri": "https://localhost:8080/"
        },
        "id": "PbT8KeWI2KZB",
        "outputId": "b6694e26-9e5a-43ea-fecc-ac3067b3ee76"
      },
      "execution_count": 62,
      "outputs": [
        {
          "output_type": "stream",
          "name": "stdout",
          "text": [
            " [1]  1  1  2  3  5  8 13 21 34 55\n"
          ]
        }
      ]
    },
    {
      "cell_type": "code",
      "source": [
        "number <- 29\n",
        "is_prime <- TRUE\n",
        "if (number > 2) {\n",
        "  for (i in 2:(number-1)) {\n",
        "    if (number %% i == 0) {\n",
        "      is_prime <- FALSE\n",
        "      break\n",
        "    }\n",
        "  }\n",
        "}\n",
        "print(paste(number, \"is prime:\", is_prime))"
      ],
      "metadata": {
        "colab": {
          "base_uri": "https://localhost:8080/"
        },
        "id": "fqhkUTRQ2Ljp",
        "outputId": "a7143d91-c396-470f-a3fb-5f8a6dfd3eac"
      },
      "execution_count": 63,
      "outputs": [
        {
          "output_type": "stream",
          "name": "stdout",
          "text": [
            "[1] \"29 is prime: TRUE\"\n"
          ]
        }
      ]
    },
    {
      "cell_type": "markdown",
      "source": [
        "<div style=\"direction: rtl; line-height: 300%; text-align: center;\">\n",
        "    <font face=\"XB Zar\" size=\"5\">\n",
        "        تابع\n",
        "    </font>\n",
        "</div>"
      ],
      "metadata": {
        "id": "Y212u2TZ5i5w"
      }
    },
    {
      "cell_type": "code",
      "source": [
        "#این تابع مساحت یک دایره را بر اساس شعاع ورودی محاسبه می‌کند:\n",
        "\n",
        "area_of_circle <- function(radius) {\n",
        "  return(pi * radius^2)\n",
        "}\n",
        "\n",
        "# مثال استفاده\n",
        "print(area_of_circle(5))"
      ],
      "metadata": {
        "colab": {
          "base_uri": "https://localhost:8080/"
        },
        "id": "oQ6bufNE5m8V",
        "outputId": "7bab3943-b905-41fd-ad7e-fc1052db833a"
      },
      "execution_count": 71,
      "outputs": [
        {
          "output_type": "stream",
          "name": "stdout",
          "text": [
            "[1] 78.53982\n"
          ]
        }
      ]
    },
    {
      "cell_type": "code",
      "source": [
        "#این تابع تعیین می‌کند که آیا یک عدد اول است یا نه:\n",
        "\n",
        "is_prime <- function(number) {\n",
        "  if (number <= 1) {\n",
        "    return(FALSE)\n",
        "  }\n",
        "  for (i in 2:sqrt(number)) {\n",
        "    if (number %% i == 0) {\n",
        "      return(FALSE)\n",
        "    }\n",
        "  }\n",
        "  return(TRUE)\n",
        "}\n",
        "\n",
        "# مثال استفاده\n",
        "print(is_prime(29))"
      ],
      "metadata": {
        "colab": {
          "base_uri": "https://localhost:8080/"
        },
        "id": "xOzopgQE5nha",
        "outputId": "ea775f33-6619-482d-99b3-501f73cab199"
      },
      "execution_count": 72,
      "outputs": [
        {
          "output_type": "stream",
          "name": "stdout",
          "text": [
            "[1] TRUE\n"
          ]
        }
      ]
    },
    {
      "cell_type": "code",
      "source": [
        "#این تابع دما را از سلسیوس به فارنهایت تبدیل می‌کند:\n",
        "\n",
        "celsius_to_fahrenheit <- function(celsius) {\n",
        "  return(celsius * 9 / 5 + 32)\n",
        "}\n",
        "\n",
        "# مثال استفاده\n",
        "print(celsius_to_fahrenheit(30))"
      ],
      "metadata": {
        "colab": {
          "base_uri": "https://localhost:8080/"
        },
        "id": "TKeqKyX-5wci",
        "outputId": "fef1f915-bcb4-46f0-b7f8-764765073379"
      },
      "execution_count": 73,
      "outputs": [
        {
          "output_type": "stream",
          "name": "stdout",
          "text": [
            "[1] 86\n"
          ]
        }
      ]
    },
    {
      "cell_type": "code",
      "source": [
        "#این تابع یک نمودار خطی برای داده‌های ورودی رسم می‌کند:\n",
        "\n",
        "plot_line_graph <- function(x, y) {\n",
        "  plot(x, y, type = 'l', col = 'blue', lwd = 2)\n",
        "}\n",
        "\n",
        "# مثال استفاده\n",
        "x <- 1:10\n",
        "y <- x^2\n",
        "plot_line_graph(x, y)"
      ],
      "metadata": {
        "colab": {
          "base_uri": "https://localhost:8080/",
          "height": 437
        },
        "id": "b4hSeNt75zRB",
        "outputId": "bdc6a466-9498-45a5-d7ca-698c12505e86"
      },
      "execution_count": 74,
      "outputs": [
        {
          "output_type": "display_data",
          "data": {
            "text/plain": [
              "plot without title"
            ],
            "image/png": "[encoded data removed]"
          },
          "metadata": {
            "image/png": {
              "width": 420,
              "height": 420
            }
          }
        }
      ]
    },
    {
      "cell_type": "code",
      "source": [
        "#این تابع میانگین اعداد داخل یک بردار را محاسبه می‌کند:\n",
        "\n",
        "calculate_mean <- function(numbers) {\n",
        "  sum(numbers) / length(numbers)\n",
        "}\n",
        "\n",
        "# مثال استفاده\n",
        "numbers <- c(1, 2, 3, 4, 5)\n",
        "print(calculate_mean(numbers))"
      ],
      "metadata": {
        "colab": {
          "base_uri": "https://localhost:8080/"
        },
        "id": "z5K3ej_Z51_x",
        "outputId": "892ab262-d570-420e-d449-b40752d5bbad"
      },
      "execution_count": 75,
      "outputs": [
        {
          "output_type": "stream",
          "name": "stdout",
          "text": [
            "[1] 3\n"
          ]
        }
      ]
    },
    {
      "cell_type": "markdown",
      "source": [
        "<div style=\"direction: rtl; line-height: 300%; text-align: center;\">\n",
        "    <font face=\"XB Zar\" size=\"5\">\n",
        "        طریقه کارکرد توابع و دستورهای مختلف این زبان\n",
        "    </font>\n",
        "</div>"
      ],
      "metadata": {
        "id": "Tao0oS7R6OMx"
      }
    },
    {
      "cell_type": "code",
      "source": [
        "?log"
      ],
      "metadata": {
        "id": "aZq2gt1C5-Ah"
      },
      "execution_count": 80,
      "outputs": []
    },
    {
      "cell_type": "code",
      "source": [
        "help(\"log\")"
      ],
      "metadata": {
        "id": "z7Bx1IBU6o_m"
      },
      "execution_count": 82,
      "outputs": []
    },
    {
      "cell_type": "code",
      "source": [
        "?plot"
      ],
      "metadata": {
        "id": "WvyVQ3v46Mvq"
      },
      "execution_count": 81,
      "outputs": []
    },
    {
      "cell_type": "code",
      "source": [
        "help(\"%%\")"
      ],
      "metadata": {
        "id": "pM8JGeNs6TXp"
      },
      "execution_count": 83,
      "outputs": []
    },
    {
      "cell_type": "code",
      "source": [],
      "metadata": {
        "id": "C1x2Y-R36yB1"
      },
      "execution_count": null,
      "outputs": []
    }
  ]
}