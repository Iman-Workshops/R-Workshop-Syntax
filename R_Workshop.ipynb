{
  "nbformat": 4,
  "nbformat_minor": 0,
  "metadata": {
    "colab": {
      "provenance": []
    },
    "kernelspec": {
      "name": "ir",
      "display_name": "R"
    },
    "language_info": {
      "name": "R"
    }
  },
  "cells": [
    {
      "cell_type": "markdown",
      "source": [
        "<div style=\"direction: rtl; line-height: 300%; text-align: center;\">\n",
        "    <font face=\"XB Zar\" size=\"5\">\n",
        "        تعریف متغیر و چاپ\n",
        "    </font>\n",
        "</div>"
      ],
      "metadata": {
        "id": "f82iPkx23GLA"
      }
    },
    {
      "cell_type": "code",
      "source": [
        "x <- \"Hello World!\"\n",
        "print(x)"
      ],
      "metadata": {
        "id": "2i2abMbFgYqE",
        "colab": {
          "base_uri": "https://localhost:8080/"
        },
        "outputId": "4d2cf658-433e-42e6-8315-45a355f52b2f"
      },
      "execution_count": 22,
      "outputs": [
        {
          "output_type": "stream",
          "name": "stdout",
          "text": [
            "[1] \"Hello World!\"\n"
          ]
        }
      ]
    },
    {
      "cell_type": "code",
      "source": [
        "x = \"Hello World!\"\n",
        "print(x)"
      ],
      "metadata": {
        "colab": {
          "base_uri": "https://localhost:8080/"
        },
        "id": "i7LhpQyD1-ce",
        "outputId": "fdccacba-fc8f-48ca-f454-1c903f839f59"
      },
      "execution_count": 23,
      "outputs": [
        {
          "output_type": "stream",
          "name": "stdout",
          "text": [
            "[1] \"Hello World!\"\n"
          ]
        }
      ]
    },
    {
      "cell_type": "code",
      "source": [
        "y = \"Hello World!\"\n",
        "cat(y)"
      ],
      "metadata": {
        "colab": {
          "base_uri": "https://localhost:8080/"
        },
        "id": "8E01X7MVjSDN",
        "outputId": "e373c5c3-5cd0-4aee-ac68-795325f5c445"
      },
      "execution_count": 24,
      "outputs": [
        {
          "output_type": "stream",
          "name": "stdout",
          "text": [
            "Hello World!"
          ]
        }
      ]
    },
    {
      "cell_type": "code",
      "source": [
        "a = TRUE\n",
        "print(a)\n",
        "cat(a)"
      ],
      "metadata": {
        "colab": {
          "base_uri": "https://localhost:8080/"
        },
        "id": "budV8gU11dgJ",
        "outputId": "7e5503ac-be8e-4676-f4cd-ab53d7051b9b"
      },
      "execution_count": 25,
      "outputs": [
        {
          "output_type": "stream",
          "name": "stdout",
          "text": [
            "[1] TRUE\n",
            "TRUE"
          ]
        }
      ]
    },
    {
      "cell_type": "code",
      "source": [
        "z = 6.5\n",
        "print(z)\n",
        "cat(z)"
      ],
      "metadata": {
        "id": "JRDV3nygjbyk",
        "colab": {
          "base_uri": "https://localhost:8080/"
        },
        "outputId": "a25491e1-4cb2-4863-ff0c-aade9458a793"
      },
      "execution_count": 26,
      "outputs": [
        {
          "output_type": "stream",
          "name": "stdout",
          "text": [
            "[1] 6.5\n",
            "6.5"
          ]
        }
      ]
    },
    {
      "cell_type": "code",
      "source": [
        "cat(\"Hello, world!\", 123, TRUE)"
      ],
      "metadata": {
        "colab": {
          "base_uri": "https://localhost:8080/"
        },
        "id": "7F0GJ4ndzu_6",
        "outputId": "f9851e24-4558-4af0-eeaf-0e29f4730268"
      },
      "execution_count": 27,
      "outputs": [
        {
          "output_type": "stream",
          "name": "stdout",
          "text": [
            "Hello, world! 123 TRUE"
          ]
        }
      ]
    },
    {
      "cell_type": "code",
      "source": [
        "print(\"Hello, world!\")\n",
        "print(123)\n",
        "print(TRUE)"
      ],
      "metadata": {
        "colab": {
          "base_uri": "https://localhost:8080/"
        },
        "id": "dfZif8-904TJ",
        "outputId": "a4a2664f-47d8-48eb-ce44-560d67119c5a"
      },
      "execution_count": 28,
      "outputs": [
        {
          "output_type": "stream",
          "name": "stdout",
          "text": [
            "[1] \"Hello, world!\"\n",
            "[1] 123\n",
            "[1] TRUE\n"
          ]
        }
      ]
    },
    {
      "cell_type": "markdown",
      "source": [
        "<div style=\"direction: rtl; line-height: 300%; text-align: center;\">\n",
        "    <font face=\"XB Zar\" size=\"5\">\n",
        "        تعیین نوع داده\n",
        "    </font>\n",
        "</div>"
      ],
      "metadata": {
        "id": "RT0GfVC04bJF"
      }
    },
    {
      "cell_type": "code",
      "source": [
        "typeof(x)"
      ],
      "metadata": {
        "colab": {
          "base_uri": "https://localhost:8080/",
          "height": 34
        },
        "id": "0WQoPGSq1TFg",
        "outputId": "4b00a9a2-031a-4275-8df4-932895a42dd6"
      },
      "execution_count": 29,
      "outputs": [
        {
          "output_type": "display_data",
          "data": {
            "text/html": [
              "'character'"
            ],
            "text/markdown": "'character'",
            "text/latex": "'character'",
            "text/plain": [
              "[1] \"character\""
            ]
          },
          "metadata": {}
        }
      ]
    },
    {
      "cell_type": "code",
      "source": [
        "typeof(a)"
      ],
      "metadata": {
        "colab": {
          "base_uri": "https://localhost:8080/",
          "height": 34
        },
        "id": "n827xmcc1Z05",
        "outputId": "8499e1f6-7137-4b19-881c-a40ab40190c8"
      },
      "execution_count": 30,
      "outputs": [
        {
          "output_type": "display_data",
          "data": {
            "text/html": [
              "'logical'"
            ],
            "text/markdown": "'logical'",
            "text/latex": "'logical'",
            "text/plain": [
              "[1] \"logical\""
            ]
          },
          "metadata": {}
        }
      ]
    },
    {
      "cell_type": "code",
      "source": [
        "typeof(z)"
      ],
      "metadata": {
        "colab": {
          "base_uri": "https://localhost:8080/",
          "height": 34
        },
        "id": "W6CeyZm91bHR",
        "outputId": "be85f92b-361b-4443-ba7d-882a37f3b22a"
      },
      "execution_count": 31,
      "outputs": [
        {
          "output_type": "display_data",
          "data": {
            "text/html": [
              "'double'"
            ],
            "text/markdown": "'double'",
            "text/latex": "'double'",
            "text/plain": [
              "[1] \"double\""
            ]
          },
          "metadata": {}
        }
      ]
    },
    {
      "cell_type": "markdown",
      "source": [
        "<div style=\"direction: rtl; line-height: 300%; text-align: center;\">\n",
        "    <font face=\"XB Zar\" size=\"5\">\n",
        "        شرط\n",
        "    </font>\n",
        "</div>"
      ],
      "metadata": {
        "id": "57d8hAsE4cvh"
      }
    },
    {
      "cell_type": "code",
      "source": [
        "#بررسی می‌کنیم که آیا یک عدد زوج است یا فرد:\n",
        "\n",
        "number <- 7\n",
        "if (number %% 2 == 0) {\n",
        "  print(\"Even\")\n",
        "} else {\n",
        "  print(\"Odd\")\n",
        "}"
      ],
      "metadata": {
        "colab": {
          "base_uri": "https://localhost:8080/"
        },
        "id": "vRSRSvbz2jSh",
        "outputId": "e8c4e9ed-27ed-4906-c631-24d94c0f346e"
      },
      "execution_count": 32,
      "outputs": [
        {
          "output_type": "stream",
          "name": "stdout",
          "text": [
            "[1] \"Odd\"\n"
          ]
        }
      ]
    },
    {
      "cell_type": "code",
      "source": [
        "#براساس شماره ماه، فصل مربوطه را تعیین می‌کنیم:\n",
        "\n",
        "month <- 4\n",
        "if (month %in% c(3, 4, 5)) {\n",
        "  season <- \"Spring\"\n",
        "} else if (month %in% c(6, 7, 8)) {\n",
        "  season <- \"Summer\"\n",
        "} else if (month %in% c(9, 10, 11)) {\n",
        "  season <- \"Autumn\"\n",
        "} else {\n",
        "  season <- \"Winter\"\n",
        "}\n",
        "print(season)"
      ],
      "metadata": {
        "colab": {
          "base_uri": "https://localhost:8080/"
        },
        "id": "0SQnjf8x2qA-",
        "outputId": "ca4eefd6-78b7-42d4-bb85-eac9b419d8f7"
      },
      "execution_count": 33,
      "outputs": [
        {
          "output_type": "stream",
          "name": "stdout",
          "text": [
            "[1] \"Spring\"\n"
          ]
        }
      ]
    },
    {
      "cell_type": "code",
      "source": [
        "#حداکثر و حداقل را در بین سه عدد مشخص می‌کنیم\n",
        "\n",
        "a <- 10\n",
        "b <- 20\n",
        "c <- 15\n",
        "\n",
        "max_value <- ifelse(a > b & a > c, a, ifelse(b > c, b, c))\n",
        "min_value <- ifelse(a < b & a < c, a, ifelse(b < c, b, c))\n",
        "\n",
        "print(paste(\"Max:\", max_value))\n",
        "print(paste(\"Min:\", min_value))"
      ],
      "metadata": {
        "colab": {
          "base_uri": "https://localhost:8080/"
        },
        "id": "Gei45X582v2p",
        "outputId": "260e3e85-b460-4da9-8ecb-8e0c8e8b73b6"
      },
      "execution_count": 34,
      "outputs": [
        {
          "output_type": "stream",
          "name": "stdout",
          "text": [
            "[1] \"Max: 20\"\n",
            "[1] \"Min: 10\"\n"
          ]
        }
      ]
    },
    {
      "cell_type": "code",
      "source": [
        "#نمرات رو به درجات تبدیل می‌کنیم\n",
        "\n",
        "score <- 85\n",
        "grade <- if (score >= 90) {\n",
        "  \"A\"\n",
        "} else if (score >= 80) {\n",
        "  \"B\"\n",
        "} else if (score >= 70) {\n",
        "  \"C\"\n",
        "} else if (score >= 60) {\n",
        "  \"D\"\n",
        "} else {\n",
        "  \"F\"\n",
        "}\n",
        "print(grade)"
      ],
      "metadata": {
        "colab": {
          "base_uri": "https://localhost:8080/"
        },
        "id": "grtBz2C53Ab5",
        "outputId": "e80d8457-596d-4855-efed-e21f7c7b4dc2"
      },
      "execution_count": 35,
      "outputs": [
        {
          "output_type": "stream",
          "name": "stdout",
          "text": [
            "[1] \"B\"\n"
          ]
        }
      ]
    },
    {
      "cell_type": "markdown",
      "source": [
        "<div style=\"direction: rtl; line-height: 300%; text-align: center;\">\n",
        "    <font face=\"XB Zar\" size=\"5\">\n",
        "        حلقه\n",
        "    </font>\n",
        "</div>"
      ],
      "metadata": {
        "id": "4A-pc8Rd4fbT"
      }
    },
    {
      "cell_type": "code",
      "source": [
        "\n",
        "sum <- 0\n",
        "for (i in 1:100) {\n",
        "  sum <- sum + i\n",
        "}\n",
        "print(sum)\n",
        "cat(sum)"
      ],
      "metadata": {
        "colab": {
          "base_uri": "https://localhost:8080/"
        },
        "id": "nWipU0Aw1lgy",
        "outputId": "5e38bf35-105a-4451-aa0f-19e1a41b418d"
      },
      "execution_count": 36,
      "outputs": [
        {
          "output_type": "stream",
          "name": "stdout",
          "text": [
            "[1] 5050\n",
            "5050"
          ]
        }
      ]
    },
    {
      "cell_type": "code",
      "source": [
        "result <- \"\"\n",
        "for (i in 1:5) {\n",
        "  result <- paste(result, \"R\")\n",
        "}\n",
        "print(result)"
      ],
      "metadata": {
        "colab": {
          "base_uri": "https://localhost:8080/"
        },
        "id": "Vphlfrfj2ApK",
        "outputId": "86ad2347-7754-4ca5-f21d-5d8b53af5705"
      },
      "execution_count": 37,
      "outputs": [
        {
          "output_type": "stream",
          "name": "stdout",
          "text": [
            "[1] \" R R R R R\"\n"
          ]
        }
      ]
    },
    {
      "cell_type": "code",
      "source": [
        "set.seed(123)  # برای تکرارپذیری نتایج\n",
        "while (TRUE) {\n",
        "  num <- runif(1)\n",
        "  print(num)\n",
        "  if (num > 0.9) {\n",
        "    break\n",
        "  }\n",
        "}"
      ],
      "metadata": {
        "colab": {
          "base_uri": "https://localhost:8080/"
        },
        "id": "NWD0X1Z_2IMJ",
        "outputId": "c98ecca7-e7e0-4612-e4bd-87398c93ba40"
      },
      "execution_count": 38,
      "outputs": [
        {
          "output_type": "stream",
          "name": "stdout",
          "text": [
            "[1] 0.2875775\n",
            "[1] 0.7883051\n",
            "[1] 0.4089769\n",
            "[1] 0.8830174\n",
            "[1] 0.9404673\n"
          ]
        }
      ]
    },
    {
      "cell_type": "code",
      "source": [
        "fib <- numeric(10)\n",
        "fib[1] <- 1\n",
        "fib[2] <- 1\n",
        "for (i in 3:10) {\n",
        "  fib[i] <- fib[i-1] + fib[i-2]\n",
        "}\n",
        "print(fib)"
      ],
      "metadata": {
        "colab": {
          "base_uri": "https://localhost:8080/"
        },
        "id": "PbT8KeWI2KZB",
        "outputId": "46eb0587-51e4-4d7a-db3f-599c822b1a6e"
      },
      "execution_count": 39,
      "outputs": [
        {
          "output_type": "stream",
          "name": "stdout",
          "text": [
            " [1]  1  1  2  3  5  8 13 21 34 55\n"
          ]
        }
      ]
    },
    {
      "cell_type": "code",
      "source": [
        "number <- 29\n",
        "is_prime <- TRUE\n",
        "if (number > 2) {\n",
        "  for (i in 2:(number-1)) {\n",
        "    if (number %% i == 0) {\n",
        "      is_prime <- FALSE\n",
        "      break\n",
        "    }\n",
        "  }\n",
        "}\n",
        "print(paste(number, \"is prime:\", is_prime))"
      ],
      "metadata": {
        "colab": {
          "base_uri": "https://localhost:8080/"
        },
        "id": "fqhkUTRQ2Ljp",
        "outputId": "3f7343d3-2504-40ca-ce24-6e17b24e39d8"
      },
      "execution_count": 40,
      "outputs": [
        {
          "output_type": "stream",
          "name": "stdout",
          "text": [
            "[1] \"29 is prime: TRUE\"\n"
          ]
        }
      ]
    },
    {
      "cell_type": "markdown",
      "source": [
        "<div style=\"direction: rtl; line-height: 300%; text-align: center;\">\n",
        "    <font face=\"XB Zar\" size=\"5\">\n",
        "        تابع\n",
        "    </font>\n",
        "</div>"
      ],
      "metadata": {
        "id": "Y212u2TZ5i5w"
      }
    },
    {
      "cell_type": "code",
      "source": [
        "#این تابع مساحت یک دایره را بر اساس شعاع ورودی محاسبه می‌کند:\n",
        "\n",
        "area_of_circle <- function(radius) {\n",
        "  return(pi * radius^2)\n",
        "}\n",
        "\n",
        "# مثال استفاده\n",
        "print(area_of_circle(5))"
      ],
      "metadata": {
        "colab": {
          "base_uri": "https://localhost:8080/"
        },
        "id": "oQ6bufNE5m8V",
        "outputId": "3209ccb5-0d84-4651-f14e-2bd759b2f141"
      },
      "execution_count": 41,
      "outputs": [
        {
          "output_type": "stream",
          "name": "stdout",
          "text": [
            "[1] 78.53982\n"
          ]
        }
      ]
    },
    {
      "cell_type": "code",
      "source": [
        "#این تابع تعیین می‌کند که آیا یک عدد اول است یا نه:\n",
        "\n",
        "is_prime <- function(number) {\n",
        "  if (number <= 1) {\n",
        "    return(FALSE)\n",
        "  }\n",
        "  for (i in 2:sqrt(number)) {\n",
        "    if (number %% i == 0) {\n",
        "      return(FALSE)\n",
        "    }\n",
        "  }\n",
        "  return(TRUE)\n",
        "}\n",
        "\n",
        "# مثال استفاده\n",
        "print(is_prime(29))"
      ],
      "metadata": {
        "colab": {
          "base_uri": "https://localhost:8080/"
        },
        "id": "xOzopgQE5nha",
        "outputId": "672c419a-bc3f-4502-f10d-bde4fac9c1db"
      },
      "execution_count": 42,
      "outputs": [
        {
          "output_type": "stream",
          "name": "stdout",
          "text": [
            "[1] TRUE\n"
          ]
        }
      ]
    },
    {
      "cell_type": "code",
      "source": [
        "#این تابع دما را از سلسیوس به فارنهایت تبدیل می‌کند:\n",
        "\n",
        "celsius_to_fahrenheit <- function(celsius) {\n",
        "  return(celsius * 9 / 5 + 32)\n",
        "}\n",
        "\n",
        "# مثال استفاده\n",
        "print(celsius_to_fahrenheit(30))"
      ],
      "metadata": {
        "colab": {
          "base_uri": "https://localhost:8080/"
        },
        "id": "TKeqKyX-5wci",
        "outputId": "fc7501f9-1e3c-420f-e0bf-9be541a920b2"
      },
      "execution_count": 43,
      "outputs": [
        {
          "output_type": "stream",
          "name": "stdout",
          "text": [
            "[1] 86\n"
          ]
        }
      ]
    },
    {
      "cell_type": "code",
      "source": [
        "#این تابع یک نمودار خطی برای داده‌های ورودی رسم می‌کند:\n",
        "\n",
        "plot_line_graph <- function(x, y) {\n",
        "  plot(x, y, type = 'l', col = 'blue', lwd = 2)\n",
        "}\n",
        "\n",
        "# مثال استفاده\n",
        "x <- 1:10\n",
        "y <- x^2\n",
        "plot_line_graph(x, y)"
      ],
      "metadata": {
        "colab": {
          "base_uri": "https://localhost:8080/",
          "height": 437
        },
        "id": "b4hSeNt75zRB",
        "outputId": "0841472c-5db0-4aef-cfe8-ee2f84f10582"
      },
      "execution_count": 44,
      "outputs": [
        {
          "output_type": "display_data",
          "data": {
            "text/plain": [
              "plot without title"
            ],
            "image/png": "[encoded data removed]"
          },
          "metadata": {
            "image/png": {
              "width": 420,
              "height": 420
            }
          }
        }
      ]
    },
    {
      "cell_type": "code",
      "source": [
        "#این تابع میانگین اعداد داخل یک بردار را محاسبه می‌کند:\n",
        "\n",
        "calculate_mean <- function(numbers) {\n",
        "  sum(numbers) / length(numbers)\n",
        "}\n",
        "\n",
        "# مثال استفاده\n",
        "numbers <- c(1, 2, 3, 4, 5)\n",
        "print(calculate_mean(numbers))"
      ],
      "metadata": {
        "colab": {
          "base_uri": "https://localhost:8080/"
        },
        "id": "z5K3ej_Z51_x",
        "outputId": "619b65b1-ffc8-4ab6-8054-e395e2d76032"
      },
      "execution_count": 45,
      "outputs": [
        {
          "output_type": "stream",
          "name": "stdout",
          "text": [
            "[1] 3\n"
          ]
        }
      ]
    },
    {
      "cell_type": "markdown",
      "source": [
        "<div style=\"direction: rtl; line-height: 300%; text-align: center;\">\n",
        "    <font face=\"XB Zar\" size=\"5\">\n",
        "        طریقه کارکرد توابع و دستورهای مختلف این زبان\n",
        "    </font>\n",
        "</div>"
      ],
      "metadata": {
        "id": "Tao0oS7R6OMx"
      }
    },
    {
      "cell_type": "code",
      "source": [
        "?log"
      ],
      "metadata": {
        "id": "aZq2gt1C5-Ah"
      },
      "execution_count": 46,
      "outputs": []
    },
    {
      "cell_type": "code",
      "source": [
        "help(\"log\")"
      ],
      "metadata": {
        "id": "z7Bx1IBU6o_m"
      },
      "execution_count": 47,
      "outputs": []
    },
    {
      "cell_type": "code",
      "source": [
        "?plot"
      ],
      "metadata": {
        "id": "WvyVQ3v46Mvq"
      },
      "execution_count": 48,
      "outputs": []
    },
    {
      "cell_type": "code",
      "source": [
        "help(\"%%\")"
      ],
      "metadata": {
        "id": "pM8JGeNs6TXp"
      },
      "execution_count": 49,
      "outputs": []
    },
    {
      "cell_type": "markdown",
      "source": [
        "<div style=\"direction: rtl; line-height: 300%; text-align: center;\">\n",
        "    <font face=\"XB Zar\" size=\"5\">\n",
        "        بردار\n",
        "    </font>\n",
        "</div>"
      ],
      "metadata": {
        "id": "HFitygaRapj-"
      }
    },
    {
      "cell_type": "code",
      "source": [
        "c(1, 3, 3*pi, 4+5)"
      ],
      "metadata": {
        "colab": {
          "base_uri": "https://localhost:8080/",
          "height": 34
        },
        "id": "8iOiYlGUariV",
        "outputId": "a10480a6-67ba-4a86-be0a-90b4d32f5628"
      },
      "execution_count": 50,
      "outputs": [
        {
          "output_type": "display_data",
          "data": {
            "text/html": [
              "<style>\n",
              ".list-inline {list-style: none; margin:0; padding: 0}\n",
              ".list-inline>li {display: inline-block}\n",
              ".list-inline>li:not(:last-child)::after {content: \"\\00b7\"; padding: 0 .5ex}\n",
              "</style>\n",
              "<ol class=list-inline><li>1</li><li>3</li><li>9.42477796076938</li><li>9</li></ol>\n"
            ],
            "text/markdown": "1. 1\n2. 3\n3. 9.42477796076938\n4. 9\n\n\n",
            "text/latex": "\\begin{enumerate*}\n\\item 1\n\\item 3\n\\item 9.42477796076938\n\\item 9\n\\end{enumerate*}\n",
            "text/plain": [
              "[1] 1.000000 3.000000 9.424778 9.000000"
            ]
          },
          "metadata": {}
        }
      ]
    },
    {
      "cell_type": "code",
      "source": [
        "c(T,F,T)"
      ],
      "metadata": {
        "colab": {
          "base_uri": "https://localhost:8080/",
          "height": 34
        },
        "id": "sTTZzL8LavLb",
        "outputId": "05331d11-0737-4d32-fa14-90eeb1549dd6"
      },
      "execution_count": 51,
      "outputs": [
        {
          "output_type": "display_data",
          "data": {
            "text/html": [
              "<style>\n",
              ".list-inline {list-style: none; margin:0; padding: 0}\n",
              ".list-inline>li {display: inline-block}\n",
              ".list-inline>li:not(:last-child)::after {content: \"\\00b7\"; padding: 0 .5ex}\n",
              "</style>\n",
              "<ol class=list-inline><li>TRUE</li><li>FALSE</li><li>TRUE</li></ol>\n"
            ],
            "text/markdown": "1. TRUE\n2. FALSE\n3. TRUE\n\n\n",
            "text/latex": "\\begin{enumerate*}\n\\item TRUE\n\\item FALSE\n\\item TRUE\n\\end{enumerate*}\n",
            "text/plain": [
              "[1]  TRUE FALSE  TRUE"
            ]
          },
          "metadata": {}
        }
      ]
    },
    {
      "cell_type": "code",
      "source": [
        "v1 <- c(1, 4, 5)\n",
        "v2 <- c(8, 5, 6)\n",
        "c(2, v1, v2, 0)"
      ],
      "metadata": {
        "id": "8fH2vaHSaw0q",
        "colab": {
          "base_uri": "https://localhost:8080/",
          "height": 34
        },
        "outputId": "a6f5df75-c09c-4473-d949-bc5e19a0136e"
      },
      "execution_count": 52,
      "outputs": [
        {
          "output_type": "display_data",
          "data": {
            "text/html": [
              "<style>\n",
              ".list-inline {list-style: none; margin:0; padding: 0}\n",
              ".list-inline>li {display: inline-block}\n",
              ".list-inline>li:not(:last-child)::after {content: \"\\00b7\"; padding: 0 .5ex}\n",
              "</style>\n",
              "<ol class=list-inline><li>2</li><li>1</li><li>4</li><li>5</li><li>8</li><li>5</li><li>6</li><li>0</li></ol>\n"
            ],
            "text/markdown": "1. 2\n2. 1\n3. 4\n4. 5\n5. 8\n6. 5\n7. 6\n8. 0\n\n\n",
            "text/latex": "\\begin{enumerate*}\n\\item 2\n\\item 1\n\\item 4\n\\item 5\n\\item 8\n\\item 5\n\\item 6\n\\item 0\n\\end{enumerate*}\n",
            "text/plain": [
              "[1] 2 1 4 5 8 5 6 0"
            ]
          },
          "metadata": {}
        }
      ]
    },
    {
      "cell_type": "code",
      "source": [
        "v <- c(2,4,6)\n",
        "u <- c(3,4,5)\n",
        "\n",
        "u != v   # 2 != 3  4 == 4  6 != 5\n",
        "\n",
        "v > u    # 2 < 3   4 == 4   6 > 5"
      ],
      "metadata": {
        "colab": {
          "base_uri": "https://localhost:8080/",
          "height": 52
        },
        "id": "q69dQ1L8bM3y",
        "outputId": "44f537c6-51c2-4bd9-b5c8-77123f1f3093"
      },
      "execution_count": 53,
      "outputs": [
        {
          "output_type": "display_data",
          "data": {
            "text/html": [
              "<style>\n",
              ".list-inline {list-style: none; margin:0; padding: 0}\n",
              ".list-inline>li {display: inline-block}\n",
              ".list-inline>li:not(:last-child)::after {content: \"\\00b7\"; padding: 0 .5ex}\n",
              "</style>\n",
              "<ol class=list-inline><li>TRUE</li><li>FALSE</li><li>TRUE</li></ol>\n"
            ],
            "text/markdown": "1. TRUE\n2. FALSE\n3. TRUE\n\n\n",
            "text/latex": "\\begin{enumerate*}\n\\item TRUE\n\\item FALSE\n\\item TRUE\n\\end{enumerate*}\n",
            "text/plain": [
              "[1]  TRUE FALSE  TRUE"
            ]
          },
          "metadata": {}
        },
        {
          "output_type": "display_data",
          "data": {
            "text/html": [
              "<style>\n",
              ".list-inline {list-style: none; margin:0; padding: 0}\n",
              ".list-inline>li {display: inline-block}\n",
              ".list-inline>li:not(:last-child)::after {content: \"\\00b7\"; padding: 0 .5ex}\n",
              "</style>\n",
              "<ol class=list-inline><li>FALSE</li><li>FALSE</li><li>TRUE</li></ol>\n"
            ],
            "text/markdown": "1. FALSE\n2. FALSE\n3. TRUE\n\n\n",
            "text/latex": "\\begin{enumerate*}\n\\item FALSE\n\\item FALSE\n\\item TRUE\n\\end{enumerate*}\n",
            "text/plain": [
              "[1] FALSE FALSE  TRUE"
            ]
          },
          "metadata": {}
        }
      ]
    },
    {
      "cell_type": "code",
      "source": [
        "u > 4\n",
        "v*2 > 7"
      ],
      "metadata": {
        "colab": {
          "base_uri": "https://localhost:8080/",
          "height": 52
        },
        "id": "2_vb28ENbTdx",
        "outputId": "4c8e014f-5dd9-48a9-daa1-84c7bcabda20"
      },
      "execution_count": 54,
      "outputs": [
        {
          "output_type": "display_data",
          "data": {
            "text/html": [
              "<style>\n",
              ".list-inline {list-style: none; margin:0; padding: 0}\n",
              ".list-inline>li {display: inline-block}\n",
              ".list-inline>li:not(:last-child)::after {content: \"\\00b7\"; padding: 0 .5ex}\n",
              "</style>\n",
              "<ol class=list-inline><li>FALSE</li><li>FALSE</li><li>TRUE</li></ol>\n"
            ],
            "text/markdown": "1. FALSE\n2. FALSE\n3. TRUE\n\n\n",
            "text/latex": "\\begin{enumerate*}\n\\item FALSE\n\\item FALSE\n\\item TRUE\n\\end{enumerate*}\n",
            "text/plain": [
              "[1] FALSE FALSE  TRUE"
            ]
          },
          "metadata": {}
        },
        {
          "output_type": "display_data",
          "data": {
            "text/html": [
              "<style>\n",
              ".list-inline {list-style: none; margin:0; padding: 0}\n",
              ".list-inline>li {display: inline-block}\n",
              ".list-inline>li:not(:last-child)::after {content: \"\\00b7\"; padding: 0 .5ex}\n",
              "</style>\n",
              "<ol class=list-inline><li>FALSE</li><li>TRUE</li><li>TRUE</li></ol>\n"
            ],
            "text/markdown": "1. FALSE\n2. TRUE\n3. TRUE\n\n\n",
            "text/latex": "\\begin{enumerate*}\n\\item FALSE\n\\item TRUE\n\\item TRUE\n\\end{enumerate*}\n",
            "text/plain": [
              "[1] FALSE  TRUE  TRUE"
            ]
          },
          "metadata": {}
        }
      ]
    },
    {
      "cell_type": "markdown",
      "source": [
        "<div style=\"direction: rtl; line-height: 300%; text-align: center;\">\n",
        "    <font face=\"XB Zar\" size=\"5\">\n",
        "        قانون بازیافت\n",
        "    </font>\n",
        "</div>"
      ],
      "metadata": {
        "id": "KirM08LNet2n"
      }
    },
    {
      "cell_type": "markdown",
      "source": [
        "در R، قانون بازیافت (Recycling Rule) به مکانیزمی گفته می‌شود که در آن طولانی‌ترین بردار در عملیات‌های برداری تعیین‌کننده است و بردارهای کوتاه‌تر برای مطابقت با این طول تکرار می‌شوند. این ویژگی به ویژه هنگام انجام عملیات روی بردارهایی با طول‌های مختلف کاربرد دارد."
      ],
      "metadata": {
        "id": "lwwlifZLeyJq"
      }
    },
    {
      "cell_type": "code",
      "source": [
        "a <- c(1, 2, 3)\n",
        "b <- c(10, 20)\n",
        "\n",
        "# عملیات جمع\n",
        "a + b  # برابر است با c(1, 2, 3) + c(10, 20, 10)"
      ],
      "metadata": {
        "colab": {
          "base_uri": "https://localhost:8080/",
          "height": 71
        },
        "id": "eKAPWDopeu37",
        "outputId": "35ebc881-85a9-4d24-afb2-eb73114242ac"
      },
      "execution_count": 55,
      "outputs": [
        {
          "output_type": "stream",
          "name": "stderr",
          "text": [
            "Warning message in a + b:\n",
            "“longer object length is not a multiple of shorter object length”\n"
          ]
        },
        {
          "output_type": "display_data",
          "data": {
            "text/html": [
              "<style>\n",
              ".list-inline {list-style: none; margin:0; padding: 0}\n",
              ".list-inline>li {display: inline-block}\n",
              ".list-inline>li:not(:last-child)::after {content: \"\\00b7\"; padding: 0 .5ex}\n",
              "</style>\n",
              "<ol class=list-inline><li>11</li><li>22</li><li>13</li></ol>\n"
            ],
            "text/markdown": "1. 11\n2. 22\n3. 13\n\n\n",
            "text/latex": "\\begin{enumerate*}\n\\item 11\n\\item 22\n\\item 13\n\\end{enumerate*}\n",
            "text/plain": [
              "[1] 11 22 13"
            ]
          },
          "metadata": {}
        }
      ]
    },
    {
      "cell_type": "code",
      "source": [
        "c(1, 2, 3) + c(10, 20, 10)"
      ],
      "metadata": {
        "colab": {
          "base_uri": "https://localhost:8080/",
          "height": 34
        },
        "id": "3JQmPjQ7e1mZ",
        "outputId": "d98cd083-fe68-4493-cf3b-9d543cfe92f7"
      },
      "execution_count": 56,
      "outputs": [
        {
          "output_type": "display_data",
          "data": {
            "text/html": [
              "<style>\n",
              ".list-inline {list-style: none; margin:0; padding: 0}\n",
              ".list-inline>li {display: inline-block}\n",
              ".list-inline>li:not(:last-child)::after {content: \"\\00b7\"; padding: 0 .5ex}\n",
              "</style>\n",
              "<ol class=list-inline><li>11</li><li>22</li><li>13</li></ol>\n"
            ],
            "text/markdown": "1. 11\n2. 22\n3. 13\n\n\n",
            "text/latex": "\\begin{enumerate*}\n\\item 11\n\\item 22\n\\item 13\n\\end{enumerate*}\n",
            "text/plain": [
              "[1] 11 22 13"
            ]
          },
          "metadata": {}
        }
      ]
    },
    {
      "cell_type": "markdown",
      "source": [
        "<div style=\"direction: rtl; line-height: 300%; text-align: center;\">\n",
        "    <font face=\"XB Zar\" size=\"5\">\n",
        "        ماتریس\n",
        "    </font>\n",
        "</div>"
      ],
      "metadata": {
        "id": "x15crbpRfB92"
      }
    },
    {
      "cell_type": "code",
      "source": [
        "## Create a matrix using matrix() function\n",
        "\n",
        "# 2*4 matrix\n",
        "matrix(1:8, nrow = 2)\n",
        "\n",
        "#2*4 matrix, each row is filled first\n",
        "matrix(1:8,nrow = 2, byrow = T)\n",
        "\n",
        "# 4*2 matrix\n",
        "matrix(1:8, ncol = 2)"
      ],
      "metadata": {
        "colab": {
          "base_uri": "https://localhost:8080/",
          "height": 424
        },
        "id": "T1J8S6vxfC_B",
        "outputId": "e54038bc-c6be-415a-e9c4-249599793f4d"
      },
      "execution_count": 57,
      "outputs": [
        {
          "output_type": "display_data",
          "data": {
            "text/html": [
              "<table class=\"dataframe\">\n",
              "<caption>A matrix: 2 × 4 of type int</caption>\n",
              "<tbody>\n",
              "\t<tr><td>1</td><td>3</td><td>5</td><td>7</td></tr>\n",
              "\t<tr><td>2</td><td>4</td><td>6</td><td>8</td></tr>\n",
              "</tbody>\n",
              "</table>\n"
            ],
            "text/markdown": "\nA matrix: 2 × 4 of type int\n\n| 1 | 3 | 5 | 7 |\n| 2 | 4 | 6 | 8 |\n\n",
            "text/latex": "A matrix: 2 × 4 of type int\n\\begin{tabular}{llll}\n\t 1 & 3 & 5 & 7\\\\\n\t 2 & 4 & 6 & 8\\\\\n\\end{tabular}\n",
            "text/plain": [
              "     [,1] [,2] [,3] [,4]\n",
              "[1,] 1    3    5    7   \n",
              "[2,] 2    4    6    8   "
            ]
          },
          "metadata": {}
        },
        {
          "output_type": "display_data",
          "data": {
            "text/html": [
              "<table class=\"dataframe\">\n",
              "<caption>A matrix: 2 × 4 of type int</caption>\n",
              "<tbody>\n",
              "\t<tr><td>1</td><td>2</td><td>3</td><td>4</td></tr>\n",
              "\t<tr><td>5</td><td>6</td><td>7</td><td>8</td></tr>\n",
              "</tbody>\n",
              "</table>\n"
            ],
            "text/markdown": "\nA matrix: 2 × 4 of type int\n\n| 1 | 2 | 3 | 4 |\n| 5 | 6 | 7 | 8 |\n\n",
            "text/latex": "A matrix: 2 × 4 of type int\n\\begin{tabular}{llll}\n\t 1 & 2 & 3 & 4\\\\\n\t 5 & 6 & 7 & 8\\\\\n\\end{tabular}\n",
            "text/plain": [
              "     [,1] [,2] [,3] [,4]\n",
              "[1,] 1    2    3    4   \n",
              "[2,] 5    6    7    8   "
            ]
          },
          "metadata": {}
        },
        {
          "output_type": "display_data",
          "data": {
            "text/html": [
              "<table class=\"dataframe\">\n",
              "<caption>A matrix: 4 × 2 of type int</caption>\n",
              "<tbody>\n",
              "\t<tr><td>1</td><td>5</td></tr>\n",
              "\t<tr><td>2</td><td>6</td></tr>\n",
              "\t<tr><td>3</td><td>7</td></tr>\n",
              "\t<tr><td>4</td><td>8</td></tr>\n",
              "</tbody>\n",
              "</table>\n"
            ],
            "text/markdown": "\nA matrix: 4 × 2 of type int\n\n| 1 | 5 |\n| 2 | 6 |\n| 3 | 7 |\n| 4 | 8 |\n\n",
            "text/latex": "A matrix: 4 × 2 of type int\n\\begin{tabular}{ll}\n\t 1 & 5\\\\\n\t 2 & 6\\\\\n\t 3 & 7\\\\\n\t 4 & 8\\\\\n\\end{tabular}\n",
            "text/plain": [
              "     [,1] [,2]\n",
              "[1,] 1    5   \n",
              "[2,] 2    6   \n",
              "[3,] 3    7   \n",
              "[4,] 4    8   "
            ]
          },
          "metadata": {}
        }
      ]
    },
    {
      "cell_type": "code",
      "source": [
        "## Name columns and rows of a matrix\n",
        "m <- matrix(1:4,nrow = 2)\n",
        "colnames(m) <- c(\"col one\",\"col two\")\n",
        "rownames(m) <- c(\"row one\",\"row two\")\n",
        "m"
      ],
      "metadata": {
        "colab": {
          "base_uri": "https://localhost:8080/",
          "height": 129
        },
        "id": "78OuzMwtfFHT",
        "outputId": "4c21c1cb-f737-47b1-f9d8-89fce4c9ee9b"
      },
      "execution_count": 58,
      "outputs": [
        {
          "output_type": "display_data",
          "data": {
            "text/html": [
              "<table class=\"dataframe\">\n",
              "<caption>A matrix: 2 × 2 of type int</caption>\n",
              "<thead>\n",
              "\t<tr><th></th><th scope=col>col one</th><th scope=col>col two</th></tr>\n",
              "</thead>\n",
              "<tbody>\n",
              "\t<tr><th scope=row>row one</th><td>1</td><td>3</td></tr>\n",
              "\t<tr><th scope=row>row two</th><td>2</td><td>4</td></tr>\n",
              "</tbody>\n",
              "</table>\n"
            ],
            "text/markdown": "\nA matrix: 2 × 2 of type int\n\n| <!--/--> | col one | col two |\n|---|---|---|\n| row one | 1 | 3 |\n| row two | 2 | 4 |\n\n",
            "text/latex": "A matrix: 2 × 2 of type int\n\\begin{tabular}{r|ll}\n  & col one & col two\\\\\n\\hline\n\trow one & 1 & 3\\\\\n\trow two & 2 & 4\\\\\n\\end{tabular}\n",
            "text/plain": [
              "        col one col two\n",
              "row one 1       3      \n",
              "row two 2       4      "
            ]
          },
          "metadata": {}
        }
      ]
    },
    {
      "cell_type": "code",
      "source": [
        "## Calling elements\n",
        "print(m[2,])\n",
        "print(m[,2])\n",
        "print(m[2,2])"
      ],
      "metadata": {
        "colab": {
          "base_uri": "https://localhost:8080/"
        },
        "id": "E8wqpGDufIAa",
        "outputId": "3c119864-b6da-46e6-fc7b-a9b47aad0091"
      },
      "execution_count": 59,
      "outputs": [
        {
          "output_type": "stream",
          "name": "stdout",
          "text": [
            "col one col two \n",
            "      2       4 \n",
            "row one row two \n",
            "      3       4 \n",
            "[1] 4\n"
          ]
        }
      ]
    },
    {
      "cell_type": "code",
      "source": [
        "# Arithmatic on matrices\n",
        "print(\"Scalar Multiplication:\")\n",
        "m * 2\n",
        "print(\"Element Wise Multiplication:\")\n",
        "m * m\n",
        "print(\"Matrix Multiplication:\")\n",
        "m %*% m"
      ],
      "metadata": {
        "colab": {
          "base_uri": "https://localhost:8080/",
          "height": 408
        },
        "id": "gyM2bKkYfJ0z",
        "outputId": "0a5c15a5-aa1c-4e44-b2f2-20e0b77a5fc1"
      },
      "execution_count": 60,
      "outputs": [
        {
          "output_type": "stream",
          "name": "stdout",
          "text": [
            "[1] \"Scalar Multiplication:\"\n"
          ]
        },
        {
          "output_type": "display_data",
          "data": {
            "text/html": [
              "<table class=\"dataframe\">\n",
              "<caption>A matrix: 2 × 2 of type dbl</caption>\n",
              "<thead>\n",
              "\t<tr><th></th><th scope=col>col one</th><th scope=col>col two</th></tr>\n",
              "</thead>\n",
              "<tbody>\n",
              "\t<tr><th scope=row>row one</th><td>2</td><td>6</td></tr>\n",
              "\t<tr><th scope=row>row two</th><td>4</td><td>8</td></tr>\n",
              "</tbody>\n",
              "</table>\n"
            ],
            "text/markdown": "\nA matrix: 2 × 2 of type dbl\n\n| <!--/--> | col one | col two |\n|---|---|---|\n| row one | 2 | 6 |\n| row two | 4 | 8 |\n\n",
            "text/latex": "A matrix: 2 × 2 of type dbl\n\\begin{tabular}{r|ll}\n  & col one & col two\\\\\n\\hline\n\trow one & 2 & 6\\\\\n\trow two & 4 & 8\\\\\n\\end{tabular}\n",
            "text/plain": [
              "        col one col two\n",
              "row one 2       6      \n",
              "row two 4       8      "
            ]
          },
          "metadata": {}
        },
        {
          "output_type": "stream",
          "name": "stdout",
          "text": [
            "[1] \"Element Wise Multiplication:\"\n"
          ]
        },
        {
          "output_type": "display_data",
          "data": {
            "text/html": [
              "<table class=\"dataframe\">\n",
              "<caption>A matrix: 2 × 2 of type int</caption>\n",
              "<thead>\n",
              "\t<tr><th></th><th scope=col>col one</th><th scope=col>col two</th></tr>\n",
              "</thead>\n",
              "<tbody>\n",
              "\t<tr><th scope=row>row one</th><td>1</td><td> 9</td></tr>\n",
              "\t<tr><th scope=row>row two</th><td>4</td><td>16</td></tr>\n",
              "</tbody>\n",
              "</table>\n"
            ],
            "text/markdown": "\nA matrix: 2 × 2 of type int\n\n| <!--/--> | col one | col two |\n|---|---|---|\n| row one | 1 |  9 |\n| row two | 4 | 16 |\n\n",
            "text/latex": "A matrix: 2 × 2 of type int\n\\begin{tabular}{r|ll}\n  & col one & col two\\\\\n\\hline\n\trow one & 1 &  9\\\\\n\trow two & 4 & 16\\\\\n\\end{tabular}\n",
            "text/plain": [
              "        col one col two\n",
              "row one 1        9     \n",
              "row two 4       16     "
            ]
          },
          "metadata": {}
        },
        {
          "output_type": "stream",
          "name": "stdout",
          "text": [
            "[1] \"Matrix Multiplication:\"\n"
          ]
        },
        {
          "output_type": "display_data",
          "data": {
            "text/html": [
              "<table class=\"dataframe\">\n",
              "<caption>A matrix: 2 × 2 of type dbl</caption>\n",
              "<thead>\n",
              "\t<tr><th></th><th scope=col>col one</th><th scope=col>col two</th></tr>\n",
              "</thead>\n",
              "<tbody>\n",
              "\t<tr><th scope=row>row one</th><td> 7</td><td>15</td></tr>\n",
              "\t<tr><th scope=row>row two</th><td>10</td><td>22</td></tr>\n",
              "</tbody>\n",
              "</table>\n"
            ],
            "text/markdown": "\nA matrix: 2 × 2 of type dbl\n\n| <!--/--> | col one | col two |\n|---|---|---|\n| row one |  7 | 15 |\n| row two | 10 | 22 |\n\n",
            "text/latex": "A matrix: 2 × 2 of type dbl\n\\begin{tabular}{r|ll}\n  & col one & col two\\\\\n\\hline\n\trow one &  7 & 15\\\\\n\trow two & 10 & 22\\\\\n\\end{tabular}\n",
            "text/plain": [
              "        col one col two\n",
              "row one  7      15     \n",
              "row two 10      22     "
            ]
          },
          "metadata": {}
        }
      ]
    },
    {
      "cell_type": "markdown",
      "source": [
        "<div style=\"direction: rtl; line-height: 300%; text-align: center;\">\n",
        "    <font face=\"XB Zar\" size=\"5\">\n",
        "        Dataframe\n",
        "    </font>\n",
        "</div>"
      ],
      "metadata": {
        "id": "zPMpjwY4f1hk"
      }
    },
    {
      "cell_type": "code",
      "source": [
        "## Create a dataframe with data.frame()\n",
        "df <- data.frame(\n",
        "    ID = 1:5,\n",
        "    Name = c(\"Ali\",\"Reza\",\"Kiarash\",\"Nima\",\"Hossein\"),\n",
        "    Grade = c(20,16,17.5,14,19))\n",
        "\n",
        "df"
      ],
      "metadata": {
        "colab": {
          "base_uri": "https://localhost:8080/",
          "height": 255
        },
        "id": "KPxnmNPbf4Y8",
        "outputId": "5be282b1-9975-4e81-e70a-ae3dc8ca4450"
      },
      "execution_count": 61,
      "outputs": [
        {
          "output_type": "display_data",
          "data": {
            "text/html": [
              "<table class=\"dataframe\">\n",
              "<caption>A data.frame: 5 × 3</caption>\n",
              "<thead>\n",
              "\t<tr><th scope=col>ID</th><th scope=col>Name</th><th scope=col>Grade</th></tr>\n",
              "\t<tr><th scope=col>&lt;int&gt;</th><th scope=col>&lt;chr&gt;</th><th scope=col>&lt;dbl&gt;</th></tr>\n",
              "</thead>\n",
              "<tbody>\n",
              "\t<tr><td>1</td><td>Ali    </td><td>20.0</td></tr>\n",
              "\t<tr><td>2</td><td>Reza   </td><td>16.0</td></tr>\n",
              "\t<tr><td>3</td><td>Kiarash</td><td>17.5</td></tr>\n",
              "\t<tr><td>4</td><td>Nima   </td><td>14.0</td></tr>\n",
              "\t<tr><td>5</td><td>Hossein</td><td>19.0</td></tr>\n",
              "</tbody>\n",
              "</table>\n"
            ],
            "text/markdown": "\nA data.frame: 5 × 3\n\n| ID &lt;int&gt; | Name &lt;chr&gt; | Grade &lt;dbl&gt; |\n|---|---|---|\n| 1 | Ali     | 20.0 |\n| 2 | Reza    | 16.0 |\n| 3 | Kiarash | 17.5 |\n| 4 | Nima    | 14.0 |\n| 5 | Hossein | 19.0 |\n\n",
            "text/latex": "A data.frame: 5 × 3\n\\begin{tabular}{lll}\n ID & Name & Grade\\\\\n <int> & <chr> & <dbl>\\\\\n\\hline\n\t 1 & Ali     & 20.0\\\\\n\t 2 & Reza    & 16.0\\\\\n\t 3 & Kiarash & 17.5\\\\\n\t 4 & Nima    & 14.0\\\\\n\t 5 & Hossein & 19.0\\\\\n\\end{tabular}\n",
            "text/plain": [
              "  ID Name    Grade\n",
              "1 1  Ali     20.0 \n",
              "2 2  Reza    16.0 \n",
              "3 3  Kiarash 17.5 \n",
              "4 4  Nima    14.0 \n",
              "5 5  Hossein 19.0 "
            ]
          },
          "metadata": {}
        }
      ]
    },
    {
      "cell_type": "code",
      "source": [
        "## Summary of a dataframe\n",
        "summary(df)"
      ],
      "metadata": {
        "colab": {
          "base_uri": "https://localhost:8080/",
          "height": 144
        },
        "id": "4u_QMVNIf6BA",
        "outputId": "6e5404bd-f11b-451b-c630-858e093e3c2a"
      },
      "execution_count": 62,
      "outputs": [
        {
          "output_type": "display_data",
          "data": {
            "text/plain": [
              "       ID        Name               Grade     \n",
              " Min.   :1   Length:5           Min.   :14.0  \n",
              " 1st Qu.:2   Class :character   1st Qu.:16.0  \n",
              " Median :3   Mode  :character   Median :17.5  \n",
              " Mean   :3                      Mean   :17.3  \n",
              " 3rd Qu.:4                      3rd Qu.:19.0  \n",
              " Max.   :5                      Max.   :20.0  "
            ]
          },
          "metadata": {}
        }
      ]
    },
    {
      "cell_type": "code",
      "source": [
        "##Selecting elements\n",
        "df$Grade"
      ],
      "metadata": {
        "colab": {
          "base_uri": "https://localhost:8080/",
          "height": 34
        },
        "id": "NM1PPqbtf7JT",
        "outputId": "a12b4161-1d72-4dab-d8c1-edb3987b1181"
      },
      "execution_count": 63,
      "outputs": [
        {
          "output_type": "display_data",
          "data": {
            "text/html": [
              "<style>\n",
              ".list-inline {list-style: none; margin:0; padding: 0}\n",
              ".list-inline>li {display: inline-block}\n",
              ".list-inline>li:not(:last-child)::after {content: \"\\00b7\"; padding: 0 .5ex}\n",
              "</style>\n",
              "<ol class=list-inline><li>20</li><li>16</li><li>17.5</li><li>14</li><li>19</li></ol>\n"
            ],
            "text/markdown": "1. 20\n2. 16\n3. 17.5\n4. 14\n5. 19\n\n\n",
            "text/latex": "\\begin{enumerate*}\n\\item 20\n\\item 16\n\\item 17.5\n\\item 14\n\\item 19\n\\end{enumerate*}\n",
            "text/plain": [
              "[1] 20.0 16.0 17.5 14.0 19.0"
            ]
          },
          "metadata": {}
        }
      ]
    },
    {
      "cell_type": "code",
      "source": [
        "df[1,]"
      ],
      "metadata": {
        "colab": {
          "base_uri": "https://localhost:8080/",
          "height": 129
        },
        "id": "xw6zUHEMf8CO",
        "outputId": "fae7a25a-6de2-4732-8eb6-3b0a2cea4c54"
      },
      "execution_count": 64,
      "outputs": [
        {
          "output_type": "display_data",
          "data": {
            "text/html": [
              "<table class=\"dataframe\">\n",
              "<caption>A data.frame: 1 × 3</caption>\n",
              "<thead>\n",
              "\t<tr><th></th><th scope=col>ID</th><th scope=col>Name</th><th scope=col>Grade</th></tr>\n",
              "\t<tr><th></th><th scope=col>&lt;int&gt;</th><th scope=col>&lt;chr&gt;</th><th scope=col>&lt;dbl&gt;</th></tr>\n",
              "</thead>\n",
              "<tbody>\n",
              "\t<tr><th scope=row>1</th><td>1</td><td>Ali</td><td>20</td></tr>\n",
              "</tbody>\n",
              "</table>\n"
            ],
            "text/markdown": "\nA data.frame: 1 × 3\n\n| <!--/--> | ID &lt;int&gt; | Name &lt;chr&gt; | Grade &lt;dbl&gt; |\n|---|---|---|---|\n| 1 | 1 | Ali | 20 |\n\n",
            "text/latex": "A data.frame: 1 × 3\n\\begin{tabular}{r|lll}\n  & ID & Name & Grade\\\\\n  & <int> & <chr> & <dbl>\\\\\n\\hline\n\t1 & 1 & Ali & 20\\\\\n\\end{tabular}\n",
            "text/plain": [
              "  ID Name Grade\n",
              "1 1  Ali  20   "
            ]
          },
          "metadata": {}
        }
      ]
    },
    {
      "cell_type": "code",
      "source": [
        "df[df$Grade > 18,]"
      ],
      "metadata": {
        "colab": {
          "base_uri": "https://localhost:8080/",
          "height": 161
        },
        "id": "UOKGqutCf9xz",
        "outputId": "353b8dea-7e59-4c25-88b6-b03af72eb50c"
      },
      "execution_count": 65,
      "outputs": [
        {
          "output_type": "display_data",
          "data": {
            "text/html": [
              "<table class=\"dataframe\">\n",
              "<caption>A data.frame: 2 × 3</caption>\n",
              "<thead>\n",
              "\t<tr><th></th><th scope=col>ID</th><th scope=col>Name</th><th scope=col>Grade</th></tr>\n",
              "\t<tr><th></th><th scope=col>&lt;int&gt;</th><th scope=col>&lt;chr&gt;</th><th scope=col>&lt;dbl&gt;</th></tr>\n",
              "</thead>\n",
              "<tbody>\n",
              "\t<tr><th scope=row>1</th><td>1</td><td>Ali    </td><td>20</td></tr>\n",
              "\t<tr><th scope=row>5</th><td>5</td><td>Hossein</td><td>19</td></tr>\n",
              "</tbody>\n",
              "</table>\n"
            ],
            "text/markdown": "\nA data.frame: 2 × 3\n\n| <!--/--> | ID &lt;int&gt; | Name &lt;chr&gt; | Grade &lt;dbl&gt; |\n|---|---|---|---|\n| 1 | 1 | Ali     | 20 |\n| 5 | 5 | Hossein | 19 |\n\n",
            "text/latex": "A data.frame: 2 × 3\n\\begin{tabular}{r|lll}\n  & ID & Name & Grade\\\\\n  & <int> & <chr> & <dbl>\\\\\n\\hline\n\t1 & 1 & Ali     & 20\\\\\n\t5 & 5 & Hossein & 19\\\\\n\\end{tabular}\n",
            "text/plain": [
              "  ID Name    Grade\n",
              "1 1  Ali     20   \n",
              "5 5  Hossein 19   "
            ]
          },
          "metadata": {}
        }
      ]
    },
    {
      "cell_type": "code",
      "source": [
        "df[c(\"ID\",\"Grade\")]"
      ],
      "metadata": {
        "colab": {
          "base_uri": "https://localhost:8080/",
          "height": 272
        },
        "id": "IIf0y8q7gALr",
        "outputId": "5e5c5fe0-33d3-4f2a-c57a-3dcc641b4507"
      },
      "execution_count": 66,
      "outputs": [
        {
          "output_type": "display_data",
          "data": {
            "text/html": [
              "<table class=\"dataframe\">\n",
              "<caption>A data.frame: 5 × 2</caption>\n",
              "<thead>\n",
              "\t<tr><th scope=col>ID</th><th scope=col>Grade</th></tr>\n",
              "\t<tr><th scope=col>&lt;int&gt;</th><th scope=col>&lt;dbl&gt;</th></tr>\n",
              "</thead>\n",
              "<tbody>\n",
              "\t<tr><td>1</td><td>20.0</td></tr>\n",
              "\t<tr><td>2</td><td>16.0</td></tr>\n",
              "\t<tr><td>3</td><td>17.5</td></tr>\n",
              "\t<tr><td>4</td><td>14.0</td></tr>\n",
              "\t<tr><td>5</td><td>19.0</td></tr>\n",
              "</tbody>\n",
              "</table>\n"
            ],
            "text/markdown": "\nA data.frame: 5 × 2\n\n| ID &lt;int&gt; | Grade &lt;dbl&gt; |\n|---|---|\n| 1 | 20.0 |\n| 2 | 16.0 |\n| 3 | 17.5 |\n| 4 | 14.0 |\n| 5 | 19.0 |\n\n",
            "text/latex": "A data.frame: 5 × 2\n\\begin{tabular}{ll}\n ID & Grade\\\\\n <int> & <dbl>\\\\\n\\hline\n\t 1 & 20.0\\\\\n\t 2 & 16.0\\\\\n\t 3 & 17.5\\\\\n\t 4 & 14.0\\\\\n\t 5 & 19.0\\\\\n\\end{tabular}\n",
            "text/plain": [
              "  ID Grade\n",
              "1 1  20.0 \n",
              "2 2  16.0 \n",
              "3 3  17.5 \n",
              "4 4  14.0 \n",
              "5 5  19.0 "
            ]
          },
          "metadata": {}
        }
      ]
    }
  ]
}