{
  "nbformat": 4,
  "nbformat_minor": 0,
  "metadata": {
    "colab": {
      "provenance": []
    },
    "kernelspec": {
      "name": "ir",
      "display_name": "R"
    },
    "language_info": {
      "name": "R"
    }
  },
  "cells": [
    {
      "cell_type": "code",
      "source": [
        "x <- 5.4\n",
        "print(x)"
      ],
      "metadata": {
        "id": "2i2abMbFgYqE",
        "colab": {
          "base_uri": "https://localhost:8080/"
        },
        "outputId": "3f09ed08-73ac-4e2e-bccf-3fc69980ceee"
      },
      "execution_count": 1,
      "outputs": [
        {
          "output_type": "stream",
          "name": "stdout",
          "text": [
            "[1] 5.4\n"
          ]
        }
      ]
    },
    {
      "cell_type": "code",
      "source": [
        "print(x+1)"
      ],
      "metadata": {
        "colab": {
          "base_uri": "https://localhost:8080/"
        },
        "id": "8E01X7MVjSDN",
        "outputId": "663be173-1a60-4da4-d03d-1002d73b8f09"
      },
      "execution_count": 2,
      "outputs": [
        {
          "output_type": "stream",
          "name": "stdout",
          "text": [
            "[1] 6.4\n"
          ]
        }
      ]
    },
    {
      "cell_type": "code",
      "source": [],
      "metadata": {
        "id": "JRDV3nygjbyk"
      },
      "execution_count": null,
      "outputs": []
    }
  ]
}